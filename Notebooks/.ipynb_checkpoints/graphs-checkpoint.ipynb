{
 "cells": [
  {
   "cell_type": "code",
   "execution_count": 1,
   "metadata": {
    "collapsed": true
   },
   "outputs": [],
   "source": [
    "import numpy as np\n",
    "import math\n",
    "import random\n",
    "import copy\n",
    "import networkx as nx\n",
    "import matplotlib.pyplot as plt\n",
    "%matplotlib inline  "
   ]
  },
  {
   "cell_type": "code",
   "execution_count": 215,
   "metadata": {
    "collapsed": true
   },
   "outputs": [],
   "source": [
    "class Node(object):\n",
    "    \"\"\" \n",
    "    Useful for the opinion network or neutral network.\n",
    "    \"\"\"\n",
    "    def __init__(self, value = 0, edges = []):\n",
    "        self.value = value\n",
    "        self.edges = edges\n",
    "\n",
    "class Edge(object):\n",
    "    def __init__(self, fnode, tnode, value):\n",
    "        self.fnode = fnode\n",
    "        self.tnode = tnode\n",
    "        self.value = value"
   ]
  },
  {
   "cell_type": "code",
   "execution_count": 507,
   "metadata": {
    "collapsed": false
   },
   "outputs": [],
   "source": [
    "import numpy as np\n",
    "import math\n",
    "import random\n",
    "import copy\n",
    "\n",
    "#Create three possibilities to represent graph?\n",
    "#TODO: create possibility to give nodes names? or just number-name dict?\n",
    "#edgelist with weighted graph possibility\n",
    "class Graph(object):\n",
    "    \"\"\"\n",
    "    Input can be as a matrix, list of edges as tuples,\n",
    "    dictionary of connections between nodes.\n",
    "    Matrix should be upper triangular for both directed\n",
    "    and undirected graphs. Edges without duplicates \n",
    "    (also for directed graph). Nondict with all connections.\n",
    "    \"\"\"\n",
    "    def __init__(self, matrix = [], nnodes = 1, nodes = [], \\\n",
    "                 edges = [], nodevalues = [], edgevalues = [],\\\n",
    "                 nodedict = {}, directed = False, weightdict = {}):\n",
    "        if matrix != []:\n",
    "            assert np.allclose(matrix, np.triu(matrix)), \"Matrix is not triangular\"\n",
    "            self.matrix = matrix\n",
    "            if not directed:\n",
    "                self.matrix = self.matrix + self.matrix.T - np.diag(self.matrix.diagonal())\n",
    "            self.nnodes = matrix.shape[0]\n",
    "            self.matrix_to_edgelist()\n",
    "            self.nodedict = self.matrix_to_nodedict()\n",
    "            self.nodes = range(self.matrix.shape[0])\n",
    "#             self.weightdict = \n",
    "        elif nodes == []:\n",
    "            #check duplicates if undirected?\n",
    "            self.edges = edges\n",
    "            if not directed:\n",
    "                backedges = [(end, start) for (start, end) in edges]\n",
    "                self.edges.extend(backedges)\n",
    "            self.nnodes = nnodes\n",
    "            if edgevalues == []:\n",
    "                edgevalues = [1] * len(self.edges)\n",
    "            self.edgedict = dict(zip(self.edges, edgevalues))\n",
    "            self.matrix = np.zeros((nnodes,nnodes))\n",
    "            self.edgelist_to_matrix()\n",
    "            self.nodedict = self.matrix_to_nodedict()\n",
    "            self.nodes = range(self.matrix.shape[0])\n",
    "        if nodedict != {}:\n",
    "            self.nodedict = nodedict\n",
    "            self.nodes = range(self.nodedict.keys())\n",
    "            \n",
    "    def edgelist_to_matrix(self):\n",
    "        #Converts the list of tuples representing the edges to a matrix representation of the graph.\n",
    "        self.matrix = np.zeros((self.nnodes,self.nnodes))\n",
    "        for edge in self.edges:\n",
    "            self.matrix[edge[0], edge[1]] = self.edgedict[edge]\n",
    "            \n",
    "    def matrix_to_edgelist(self):\n",
    "        #Converts the matrix representation to a list of tuples representing the edges.\n",
    "        #unnecessary?\n",
    "        ind = np.nonzero(self.matrix)\n",
    "        fnodes, tnodes = ind[0].astype(long), ind[1].astype(long)\n",
    "#         fnodes, tnodes = ind[0], ind[1]\n",
    "        self.edges =  zip(fnodes, tnodes)\n",
    "\n",
    "    def matrix_to_nodedict(self):\n",
    "        nodedict = {}\n",
    "        for i in range(self.nnodes):\n",
    "            ind = np.nonzero(self.matrix[i,:])[0].tolist()\n",
    "            nodedict[i] = ind\n",
    "        return nodedict\n",
    "    \n",
    "    def nodedict_to_edgelist(self):\n",
    "        self.edges = []\n",
    "        for start in self.nodedict.keys():\n",
    "            for end in self.nodedict[start]:\n",
    "                self.edges.append((start, end))\n",
    "        \n",
    "    def add_node(self, name, connections):\n",
    "        #name can be number, connections as list\n",
    "        self.nodedict[node] = connections\n",
    "        #update other representations\n",
    "        \n",
    "    def add_edge(self, fnode, tnode):\n",
    "        self.nodedict[fnode].append(tnode)\n",
    "        #update other representations\n",
    "        \n",
    "    def remove_node(self, node):\n",
    "        assert node in self.nodes, \"Node not in graph\"\n",
    "        self.nodedict.pop(node, None)\n",
    "        #update other representations\n",
    "        \n",
    "    def remove_edge(self, node):\n",
    "        0\n",
    "        \n",
    "    def number_of_edges(self):\n",
    "        return sum(sum(self.matrix))/2\n",
    "        \n",
    "        \n",
    "    def neighbours(self, node):\n",
    "        return self.nodedict[node]\n",
    "    \n",
    "    def degree(self, node):\n",
    "        return len(self.neighbours(node))\n",
    "    \n",
    "    def average_degree(self):\n",
    "        ad = 0\n",
    "        for i in self.nodes:\n",
    "            ad += self.degree(i)\n",
    "        return ad/float(len(self.nodes))\n",
    "        \n",
    "    def find_path(self, start, end, path=[]):\n",
    "        assert start in self.nodes, \"Start is not a node in the graph\"\n",
    "        assert end in self.nodes, \"End is not a node in the graph\"\n",
    "        path = path + [start]\n",
    "        if start == end:\n",
    "            return path\n",
    "        for node in self.nodedict[start]:\n",
    "            if node not in path:\n",
    "                newpath = self.find_path(node, end, path)\n",
    "                if newpath: \n",
    "                    return newpath\n",
    "        return None\n",
    "    \n",
    "    def find_all_paths(self, start, end, path=[]):\n",
    "        path = path + [start]\n",
    "        if start == end:\n",
    "            return [path]\n",
    "        paths = []\n",
    "        for node in self.nodedict[start]:\n",
    "            if node not in path:\n",
    "                newpaths = self.find_all_paths(node, end, path)\n",
    "                for newpath in newpaths:\n",
    "                    paths.append(newpath)\n",
    "        return paths \n",
    "    \n",
    "    def find_shortest_path(self, start, end, path=[]):\n",
    "        path = path + [start]\n",
    "        if start == end:\n",
    "            return path\n",
    "        shortest = None\n",
    "        for node in self.nodedict[start]:\n",
    "            if node not in path:\n",
    "                newpath = self.find_shortest_path(node, end, path)\n",
    "                if newpath:\n",
    "                    if not shortest or len(newpath) < len(shortest):\n",
    "                        shortest = newpath\n",
    "        return shortest\n",
    "        \n",
    "    def diameter(self):\n",
    "        \"\"\" calculates the diameter of the graph \"\"\"\n",
    "        pairs = [ (i,j) for i in range(self.nnodes-1) for j in range(i+1, self.nnodes)]\n",
    "        shortest_paths = []\n",
    "        for (start,end) in pairs:\n",
    "            paths = self.find_all_paths(start,end)\n",
    "            try:\n",
    "                shortest = sorted(paths, key=len)[0]\n",
    "                shortest_paths.append(shortest)\n",
    "            except:\n",
    "                #Raise exception?\n",
    "                return float(\"inf\")\n",
    "        diameter = len(sorted(shortest_paths, key=len)[-1]) - 1\n",
    "        return diameter\n",
    "    \n",
    "    def local_clustering(self, node):\n",
    "        c = 0\n",
    "        for i in self.neighbours(node):\n",
    "            for j in self.neighbours(node):\n",
    "                if (i, j) in self.edges:\n",
    "                    c += 1\n",
    "        try:\n",
    "            return c/float(self.degree(node)*(self.degree(node)-1))\n",
    "        except:\n",
    "            return 0\n",
    "    \n",
    "    def average_clustering(self):\n",
    "        c=0\n",
    "        for node in self.nodes:\n",
    "            c += self.local_clustering(node)\n",
    "        return c/float(len(self.nodes))\n",
    "  \n",
    "\n",
    "#Creating different graphs\n",
    "def create_erdos(n = 1, p = 1.):\n",
    "    # n Number of Nodes, p Choice to get edge\n",
    "    # only upper triangular entries\n",
    "    matrix = np.random.rand(n,n) > p\n",
    "                    \n",
    "    #set diagonal and lower triangular entries to zero\n",
    "    matrix = np.triu(matrix, 1).astype(int)\n",
    "            \n",
    "    return Graph(matrix = matrix, nnodes = n)\n",
    "\n",
    "def create_watts(n = 1,  k=1, p = 0.):\n",
    "    matrix = np.zeros((n,n))\n",
    "    for i in range(n):\n",
    "        matrix[i,1+i:(i+k/2+1)] = 1\n",
    "        matrix[i, (i+n-k/2):n] = 1\n",
    "        \n",
    "    for i in range(n):\n",
    "        for j in range(n):\n",
    "            if matrix[i,j] == 1 and random.random() < p:\n",
    "                try:\n",
    "                    matrix[i,random.choice(i+1+np.nonzero(matrix[i,i+1:] == 0)[0])] = 1\n",
    "                    matrix[i,j] = 0\n",
    "                except:\n",
    "                    0\n",
    "                    \n",
    "    #also replace edges from other node?\n",
    "    \n",
    "    #set diagonal and lower triangular entries to zero\n",
    "    matrix = np.triu(matrix, 1)\n",
    "        \n",
    "    return Graph(matrix = matrix)\n",
    "    \n",
    "    \n",
    "    \n",
    "def create_barabasi(n, n_0):\n",
    "    assert n_0 + 1 < n, \"%n should be smaller than n_0+2\"\n",
    "    matrix = np.zeros((n,n))\n",
    "    #connect first node to 2,3...,n_0+1\n",
    "    matrix[0,1:n_0+1] = 1\n",
    "    #connect (n_0+2)th to 2,3...,n_0+1  (still not important which)\n",
    "    matrix[1:n_0+1, n_0+1] = 1\n",
    "    for new in range(n_0+2, n):\n",
    "        nodes = range(n)\n",
    "        nodes.remove(new)\n",
    "        probs = list(matrix.sum(axis=1)+matrix.sum(axis=0))\n",
    "        probs.pop(new)\n",
    "        probs = probs/sum(probs)\n",
    "        ind = np.random.choice(nodes, size=n_0, replace=False, p=probs)\n",
    "        matrix[ind, new] = 1\n",
    "    return Graph(matrix = matrix)"
   ]
  },
  {
   "cell_type": "code",
   "execution_count": 478,
   "metadata": {
    "collapsed": false
   },
   "outputs": [
    {
     "name": "stderr",
     "output_type": "stream",
     "text": [
      "c:\\users\\abel_\\anaconda\\lib\\site-packages\\ipykernel\\__main__.py:18: DeprecationWarning: elementwise comparison failed; this will raise the error in the future.\n"
     ]
    },
    {
     "data": {
      "image/png": "[encoded data removed]",
      "text/plain": [
       "<matplotlib.figure.Figure at 0x1aade9b0>"
      ]
     },
     "metadata": {},
     "output_type": "display_data"
    }
   ],
   "source": [
    "import networkx as nx\n",
    "import matplotlib.pyplot as plt\n",
    "%matplotlib inline  \n",
    "\n",
    "###Check Erdos-Renyi Graph\n",
    "# G = create_erdos(8, 1.)\n",
    "# TG = nx.Graph(G.matrix)\n",
    "# nx.draw(TG, pos=nx.spring_layout(TG))\n",
    "\n",
    "#G.find_path(0,4)\n",
    "#G.find_all_paths(5,4)\n",
    "#G.find_shortest_path(3,7)\n",
    "#print G.diameter()\n",
    "\n",
    "\n",
    "###Check Watts Graph\n",
    "G = create_watts(n=10, k=5, p=0.0)\n",
    "TG = nx.Graph(G.matrix)\n",
    "nx.draw(TG, pos=nx.spring_layout(TG))\n",
    "\n",
    "# G.find_path(0,9)\n",
    "# G.find_all_paths(5,4)\n",
    "# G.find_shortest_path(3,7)\n",
    "# print G.diameter()\n",
    "\n",
    "### Check Barabasi Graph\n",
    "# G = create_barabasi(12, 2)\n",
    "# TG = nx.Graph(G.matrix)\n",
    "# nx.draw(TG, pos=nx.spring_layout(TG))\n",
    "\n",
    "# G.matrix_to_nodedict()\n",
    "# G.find_path(0,10)\n",
    "# G.find_all_paths(5,4)\n",
    "# G.find_shortest_path(3,7)\n",
    "# print G.diameter()\n",
    "\n",
    "\n",
    "###Test Graph functions\n",
    "\n"
   ]
  },
  {
   "cell_type": "code",
   "execution_count": 435,
   "metadata": {
    "collapsed": false
   },
   "outputs": [
    {
     "name": "stdout",
     "output_type": "stream",
     "text": [
      "0\n",
      "0.0\n"
     ]
    }
   ],
   "source": [
    "print G.local_clustering(0)\n",
    "print G.average_clustering()"
   ]
  },
  {
   "cell_type": "markdown",
   "metadata": {},
   "source": [
    "# Anaylitics"
   ]
  },
  {
   "cell_type": "markdown",
   "metadata": {},
   "source": [
    "## Diameter"
   ]
  },
  {
   "cell_type": "markdown",
   "metadata": {},
   "source": [
    "### Erdõs"
   ]
  },
  {
   "cell_type": "code",
   "execution_count": 450,
   "metadata": {
    "collapsed": false
   },
   "outputs": [
    {
     "name": "stdout",
     "output_type": "stream",
     "text": [
      "[  1.   2.   2.   2.   2.   2.   5.  inf  inf  inf  inf]\n",
      "Wall time: 246 ms\n"
     ]
    },
    {
     "name": "stderr",
     "output_type": "stream",
     "text": [
      "c:\\users\\abel_\\anaconda\\lib\\site-packages\\ipykernel\\__main__.py:18: DeprecationWarning: elementwise comparison failed; this will raise the error in the future.\n"
     ]
    },
    {
     "data": {
      "image/png": "[encoded data removed]",
      "text/plain": [
       "<matplotlib.figure.Figure at 0x1912bbe0>"
      ]
     },
     "metadata": {},
     "output_type": "display_data"
    }
   ],
   "source": [
    "%%time\n",
    "x = np.arange(0.0,1.1,0.1)\n",
    "ytotal = np.zeros(11)\n",
    "samnum = 1\n",
    "for i in range(samnum):\n",
    "    y = []\n",
    "    for p in np.arange(0.0,1.1,0.1):\n",
    "        G = create_erdos(n=7, p=p)\n",
    "        y.append(G.diameter())\n",
    "    ytotal += y\n",
    "    \n",
    "ymean = ytotal/float(samnum)\n",
    "print ymean\n",
    "    \n",
    "fig = plt.plot(x, ymean, 'x')\n",
    "plt.title(\"Dependence of diameter in a Erdos-Renyi Graph\")\n",
    "plt.xlabel(r\"$p$\")\n",
    "plt.ylabel(\"Diameter\")"
   ]
  },
  {
   "cell_type": "markdown",
   "metadata": {},
   "source": [
    "### Watts"
   ]
  },
  {
   "cell_type": "code",
   "execution_count": 445,
   "metadata": {
    "collapsed": false
   },
   "outputs": [
    {
     "name": "stdout",
     "output_type": "stream",
     "text": [
      "[ 3.   3.4  3.6  4.1  4.4  4.1  3.9  4.   3.7  3.7  3.8]\n",
      "Wall time: 104 ms\n"
     ]
    },
    {
     "name": "stderr",
     "output_type": "stream",
     "text": [
      "c:\\users\\abel_\\anaconda\\lib\\site-packages\\ipykernel\\__main__.py:18: DeprecationWarning: elementwise comparison failed; this will raise the error in the future.\n"
     ]
    },
    {
     "data": {
      "image/png": "[encoded data removed]",
      "text/plain": [
       "<matplotlib.figure.Figure at 0x18d44cc0>"
      ]
     },
     "metadata": {},
     "output_type": "display_data"
    }
   ],
   "source": [
    "%%time\n",
    "x = np.arange(0.0,1.1,0.1)\n",
    "ytotal = np.zeros(11)\n",
    "samnum = 10\n",
    "for i in xrange(samnum):\n",
    "    y = []\n",
    "    for p in np.arange(0.0,1.1,0.1):\n",
    "        G = create_watts(n=7, k=2, p=p)\n",
    "        y.append(G.diameter())\n",
    "    ytotal += y\n",
    "    \n",
    "ymean = ytotal/float(samnum)\n",
    "print ymean\n",
    "    \n",
    "fig = plt.plot(x, ymean, 'x')\n",
    "plt.title(\"Dependence of diameter in a Watts-Strogartz Graph\")\n",
    "plt.xlabel(r\"$p$\")\n",
    "plt.ylabel(\"Diameter\")"
   ]
  },
  {
   "cell_type": "markdown",
   "metadata": {},
   "source": [
    "### Barabási"
   ]
  },
  {
   "cell_type": "code",
   "execution_count": 452,
   "metadata": {
    "collapsed": false
   },
   "outputs": [
    {
     "name": "stdout",
     "output_type": "stream",
     "text": [
      "[ 3.6  2.5  2.   2. ]\n",
      "Wall time: 115 ms\n"
     ]
    },
    {
     "name": "stderr",
     "output_type": "stream",
     "text": [
      "c:\\users\\abel_\\anaconda\\lib\\site-packages\\ipykernel\\__main__.py:18: DeprecationWarning: elementwise comparison failed; this will raise the error in the future.\n"
     ]
    },
    {
     "data": {
      "image/png": "[encoded data removed]",
      "text/plain": [
       "<matplotlib.figure.Figure at 0x1a88f898>"
      ]
     },
     "metadata": {},
     "output_type": "display_data"
    }
   ],
   "source": [
    "%%time\n",
    "samnum = 10\n",
    "nnodes = 5\n",
    "x = range(1,nnodes)\n",
    "ytotal = np.zeros(nnodes-1)\n",
    "for exp in range(samnum):\n",
    "    y = []\n",
    "    for i in range(1,nnodes):\n",
    "        G = create_barabasi(7, i)\n",
    "        y.append(G.diameter())\n",
    "    ytotal += y\n",
    "    \n",
    "ymean = ytotal/float(samnum)\n",
    "print ymean\n",
    "    \n",
    "fig = plt.plot(x, ymean, 'x')\n",
    "plt.title(\"Dependence of diameter in a Barabasi-Albert Graph\")\n",
    "plt.xlabel(r\"$\\beta$\")\n",
    "plt.ylabel(\"Diameter\")"
   ]
  },
  {
   "cell_type": "markdown",
   "metadata": {},
   "source": [
    "## Clustering"
   ]
  },
  {
   "cell_type": "markdown",
   "metadata": {},
   "source": [
    "### Erdõs"
   ]
  },
  {
   "cell_type": "code",
   "execution_count": 515,
   "metadata": {
    "collapsed": false
   },
   "outputs": [
    {
     "name": "stderr",
     "output_type": "stream",
     "text": [
      "c:\\users\\abel_\\anaconda\\lib\\site-packages\\ipykernel\\__main__.py:18: DeprecationWarning: elementwise comparison failed; this will raise the error in the future.\n"
     ]
    },
    {
     "data": {
      "text/plain": [
       "<matplotlib.text.Text at 0x1b542a58>"
      ]
     },
     "execution_count": 515,
     "metadata": {},
     "output_type": "execute_result"
    },
    {
     "data": {
      "image/png": "[encoded data removed]",
      "text/plain": [
       "<matplotlib.figure.Figure at 0x1c779080>"
      ]
     },
     "metadata": {},
     "output_type": "display_data"
    }
   ],
   "source": [
    "x = np.array(np.arange(0.0,1.1,0.1)) \n",
    "ytotal = np.zeros((1,11))\n",
    "samnum = 100\n",
    "for i in range(samnum):\n",
    "    y = []\n",
    "    for p in np.arange(0.0,1.1,0.1):\n",
    "        G = create_erdos(n=7, p=p)\n",
    "        y.append(G.average_clustering())\n",
    "    ytotal += np.array(y)\n",
    "ytotal = ytotal/float(samnum)\n",
    "plt.plot(x,ytotal[0], 'x')\n",
    "plt.title(\"Dependence of clustering in a Erdos-Renyi Graph\")\n",
    "plt.xlabel(r\"$p$\")\n",
    "plt.ylabel(\"Clustering\")"
   ]
  },
  {
   "cell_type": "markdown",
   "metadata": {},
   "source": [
    "### Watts"
   ]
  },
  {
   "cell_type": "code",
   "execution_count": 516,
   "metadata": {
    "collapsed": false
   },
   "outputs": [
    {
     "name": "stderr",
     "output_type": "stream",
     "text": [
      "c:\\users\\abel_\\anaconda\\lib\\site-packages\\ipykernel\\__main__.py:18: DeprecationWarning: elementwise comparison failed; this will raise the error in the future.\n"
     ]
    },
    {
     "data": {
      "text/plain": [
       "<matplotlib.text.Text at 0x1b2319b0>"
      ]
     },
     "execution_count": 516,
     "metadata": {},
     "output_type": "execute_result"
    },
    {
     "data": {
      "image/png": "[encoded data removed]",
      "text/plain": [
       "<matplotlib.figure.Figure at 0x1a9b7320>"
      ]
     },
     "metadata": {},
     "output_type": "display_data"
    }
   ],
   "source": [
    "x = np.array(np.arange(0.0,1.1,0.1))\n",
    "ytotal = np.zeros((1,11))\n",
    "samnum = 100\n",
    "for i in range(samnum):\n",
    "    y = []\n",
    "    for p in np.arange(0.0,1.1,0.1):\n",
    "        G = create_watts(n=7, k=5, p=p)\n",
    "        y.append(G.average_clustering())\n",
    "    ytotal += np.array(y)\n",
    "ytotal = ytotal/samnum\n",
    "plt.plot(x,ytotal[0], 'x')\n",
    "\n",
    "plt.title(\"Dependence of degree in a Watts-Strogartz Graph\")\n",
    "plt.xlabel(r\"$p$\")\n",
    "plt.ylabel(\"Clustering\")"
   ]
  },
  {
   "cell_type": "markdown",
   "metadata": {},
   "source": [
    "### Barabasi"
   ]
  },
  {
   "cell_type": "code",
   "execution_count": 517,
   "metadata": {
    "collapsed": false
   },
   "outputs": [
    {
     "name": "stderr",
     "output_type": "stream",
     "text": [
      "c:\\users\\abel_\\anaconda\\lib\\site-packages\\ipykernel\\__main__.py:224: RuntimeWarning: invalid value encountered in divide\n",
      "c:\\users\\abel_\\anaconda\\lib\\site-packages\\ipykernel\\__main__.py:225: RuntimeWarning: invalid value encountered in less\n",
      "c:\\users\\abel_\\anaconda\\lib\\site-packages\\ipykernel\\__main__.py:225: RuntimeWarning: invalid value encountered in greater\n",
      "c:\\users\\abel_\\anaconda\\lib\\site-packages\\ipykernel\\__main__.py:18: DeprecationWarning: elementwise comparison failed; this will raise the error in the future.\n"
     ]
    },
    {
     "data": {
      "text/plain": [
       "<matplotlib.text.Text at 0x1b1a9b70>"
      ]
     },
     "execution_count": 517,
     "metadata": {},
     "output_type": "execute_result"
    },
    {
     "data": {
      "image/png": "[encoded data removed]",
      "text/plain": [
       "<matplotlib.figure.Figure at 0x1a9abc18>"
      ]
     },
     "metadata": {},
     "output_type": "display_data"
    }
   ],
   "source": [
    "x = range(11)\n",
    "ytotal = np.zeros((1,11))\n",
    "samnum = 100\n",
    "for i in range(samnum):\n",
    "    y = []\n",
    "    for n_0 in range(11):\n",
    "        G = create_barabasi(n=12, n_0=n_0)\n",
    "        y.append(G.average_clustering())\n",
    "    ytotal += np.array(y)\n",
    "ytotal = ytotal/samnum\n",
    "plt.plot(x,ytotal[0], 'x')\n",
    "plt.title(\"Dependence of clustering in a Barabasi-Albert Graph\")\n",
    "plt.xlabel(r\"$\\beta$\")\n",
    "plt.ylabel(\"Clustering\")"
   ]
  },
  {
   "cell_type": "markdown",
   "metadata": {},
   "source": [
    "## Degree Distribution"
   ]
  },
  {
   "cell_type": "markdown",
   "metadata": {},
   "source": [
    "## Erdõs"
   ]
  },
  {
   "cell_type": "code",
   "execution_count": null,
   "metadata": {
    "collapsed": true
   },
   "outputs": [],
   "source": [
    "x = np.array(np.arange(0.0,1.1,0.1)) \n",
    "ytotal = np.zeros((1,11))\n",
    "samnum = 100\n",
    "for i in range(samnum):\n",
    "    y = []\n",
    "    for p in np.arange(0.0,1.1,0.1):\n",
    "        G = create_erdos(n=7, p=p)\n",
    "        y.append(G.average_degree())\n",
    "    ytotal += np.array(y)\n",
    "ytotal = ytotal/float(samnum)\n",
    "plt.plot(x,ytotal[0], 'x')\n",
    "plt.title(\"Dependence of average degree in a Erdos-Renyi Graph\")\n",
    "plt.xlabel(r\"$p$\")\n",
    "plt.ylabel(\"Clustering\")"
   ]
  }
 ],
 "metadata": {
  "celltoolbar": "Raw Cell Format",
  "kernelspec": {
   "display_name": "Python 2",
   "language": "python",
   "name": "python2"
  },
  "language_info": {
   "codemirror_mode": {
    "name": "ipython",
    "version": 2
   },
   "file_extension": ".py",
   "mimetype": "text/x-python",
   "name": "python",
   "nbconvert_exporter": "python",
   "pygments_lexer": "ipython2",
   "version": "2.7.11"
  }
 },
 "nbformat": 4,
 "nbformat_minor": 0
}

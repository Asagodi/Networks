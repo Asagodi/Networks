{
 "cells": [
  {
   "cell_type": "code",
   "execution_count": 658,
   "metadata": {
    "collapsed": true
   },
   "outputs": [],
   "source": [
    "import numpy as np\n",
    "import math\n",
    "import random\n",
    "import copy\n",
    "\n",
    "\n",
    "class Node(object):\n",
    "    \"\"\" \n",
    "    Useful for the opinion network.\n",
    "    \"\"\"\n",
    "    def __init__(self, value = 0, edges = []):\n",
    "        self.value = value\n",
    "        self.edges = edges\n",
    "\n",
    "class Edge(object):\n",
    "    def __init__(self, fnode, tnode, value):\n",
    "        self.fnode = fnode\n",
    "        self.tnode = tnode\n",
    "        self.value = value"
   ]
  },
  {
   "cell_type": "code",
   "execution_count": 685,
   "metadata": {
    "collapsed": true
   },
   "outputs": [],
   "source": [
    "import numpy as np\n",
    "import math\n",
    "import random\n",
    "import copy\n",
    "\n",
    "#Create three possibilities to represent graph?\n",
    "#TODO: create possibility to give nodes names? or just number-name dict?\n",
    "class Graph(object):\n",
    "    \"\"\"\n",
    "    Input can be as a matrix, list of edges as tuples, dictionary of connections between nodes\n",
    "    \"\"\"\n",
    "    def __init__(self, matrix = [], nnodes = 1, nodes = [], \\\n",
    "                 edges = [], nodevalues = [], edgevalues = [], nodedict = {}):\n",
    "        if matrix != []:\n",
    "            self.matrix = matrix\n",
    "            self.nnodes = matrix.shape[0]\n",
    "            self.matrix_to_edgelist()\n",
    "            self.nodedict = self.matrix_to_nodedict()\n",
    "            self.nodes = range(nnodes)\n",
    "        elif nodes == []:\n",
    "            self.edges = edges\n",
    "            self.nnodes = nnodes\n",
    "            if edgevalues == []:\n",
    "                edgevalues = [1] * len(self.edges)\n",
    "            self.edgedict = dict(zip(self.edges, edgevalues))\n",
    "            self.matrix = np.zeros((nnodes,nnodes))\n",
    "            self.edgelist_to_matrix()\n",
    "            self.nodedict = self.matrix_to_nodedict()\n",
    "            self.nodes = range(nnodes)\n",
    "        if nodedict != {}:\n",
    "            0\n",
    "            \n",
    "    def edgelist_to_matrix(self):\n",
    "        #Convert the list of tuples representing edges to a matrix representation of the graph.\n",
    "        self.matrix = np.zeros((self.nnodes,self.nnodes))\n",
    "        for edge in self.edges:\n",
    "            self.matrix[edge[0], edge[1]] = self.edgedict[edge]\n",
    "            \n",
    "    def matrix_to_edgelist(self):\n",
    "        ind = np.nonzero(self.matrix)\n",
    "        self.edges =  zip(ind[0], ind[1])\n",
    "        \n",
    "    def matrix_to_nodedict(self):\n",
    "        nodedict = {}\n",
    "        for i in range(self.nnodes):\n",
    "            ind = np.nonzero(self.matrix[i,:])[0].tolist()\n",
    "            ind.extend(np.nonzero(self.matrix[:,i])[0].tolist())\n",
    "            nodedict[i] = ind\n",
    "        return nodedict\n",
    "        \n",
    "        \n",
    "    def add_edge(self):\n",
    "        0\n",
    "        \n",
    "    def neighbours(self, node):\n",
    "        0\n",
    "        \n",
    "    def find_path(self, start, end, path=[]):\n",
    "        assert start in self.nodes, \"Start is not a node in the graph\"\n",
    "        assert end in self.nodes, \"End is not a node in the graph\"\n",
    "        path = path + [start]\n",
    "        if start == end:\n",
    "            return path\n",
    "        for node in self.nodedict[start]:\n",
    "            if node not in path:\n",
    "                newpath = self.find_path(node, end, path)\n",
    "                if newpath: \n",
    "                    return newpath\n",
    "        return None\n",
    "    \n",
    "    def find_all_paths(self, start, end, path=[]):\n",
    "        path = path + [start]\n",
    "        if start == end:\n",
    "            return [path]\n",
    "        paths = []\n",
    "        for node in self.nodedict[start]:\n",
    "            if node not in path:\n",
    "                newpaths = self.find_all_paths(node, end, path)\n",
    "                for newpath in newpaths:\n",
    "                    paths.append(newpath)\n",
    "        return paths \n",
    "    \n",
    "    def find_shortest_path(self, start, end, path=[]):\n",
    "        path = path + [start]\n",
    "        if start == end:\n",
    "            return path\n",
    "        shortest = None\n",
    "        for node in self.nodedict[start]:\n",
    "            if node not in path:\n",
    "                newpath = self.find_shortest_path(node, end, path)\n",
    "                if newpath:\n",
    "                    if not shortest or len(newpath) < len(shortest):\n",
    "                        shortest = newpath\n",
    "        return shortest\n",
    "        \n",
    "    def diameter(self):\n",
    "        \"\"\" calculates the diameter of the graph \"\"\"\n",
    "        pairs = [ (i,j) for i in range(self.nnodes-1) for j in range(i+1, self.nnodes)]\n",
    "        shortest_paths = []\n",
    "        for (start,end) in pairs:\n",
    "            paths = self.find_all_paths(start,end)\n",
    "            shortest = sorted(paths, key=len)[0]\n",
    "            shortest_paths.append(shortest)\n",
    "        diameter = len(shortest_paths[-1])\n",
    "        return diameter\n",
    "  \n",
    "\n",
    "#Creating different graphs\n",
    "def create_erdos(n = 1, p = 1.):\n",
    "    # n Number of Nodes, p Choice to get edge\n",
    "    # only upper triangular entries\n",
    "    matrix = np.random.rand(n,n) < p\n",
    "                    \n",
    "    #set diagonal and lower triangular entries to zero\n",
    "    matrix = np.triu(matrix, 1)\n",
    "            \n",
    "    return Graph(matrix = matrix, nnodes = n)\n",
    "\n",
    "def create_watts(n = 1, p = 0.1):\n",
    "    #create list of edges\n",
    "    #would be an offdiagonal matrix\n",
    "    init_edge_list = []\n",
    "    for i in range(n-1):\n",
    "        init_edge_list.append((i,i+1))\n",
    "    init_edge_list.append((0,n-1))\n",
    "    #G = Graph(nnodes = n, edges = init_edge_list)\n",
    "    #TG = nx.Graph(G.matrix)\n",
    "    #draw(TG, pos=nx.spring_layout(TG))\n",
    "    \n",
    "    new_edge_list = []\n",
    "    elist = copy.deepcopy(init_edge_list)\n",
    "    for edge in init_edge_list:\n",
    "        if random.random() < p:\n",
    "            new_edge = edge\n",
    "            #create new edge until a non-existent is found\n",
    "            while new_edge in elist or new_edge in new_edge_list or new_edge == (edge[0], edge[0])\\\n",
    "            or (new_edge[1], new_edge[0]) in elist or (new_edge[1], new_edge[0]) in new_edge_list:\n",
    "                new_edge = (edge[0], random.randint(0, n-1))\n",
    "            elist.remove(edge)\n",
    "            #set edges (small number, great number)\n",
    "            if new_edge[0] > new_edge[1]:\n",
    "                new_edge = (new_edge[1], new_edge[0])\n",
    "            new_edge_list.append(new_edge)\n",
    "        else:\n",
    "            new_edge_list.append(edge)\n",
    "            \n",
    "    return  Graph(nnodes = n, edges = new_edge_list)\n",
    "    \n",
    "    \n",
    "    \n",
    "def create_barabasi(n, n_0):\n",
    "    assert n_0 + 1 < n, \"%n should be greater than n_0+1\"\n",
    "    matrix = np.zeros((n,n))\n",
    "    #connect first node to 2,3...,n_0+1\n",
    "    matrix[0,1:n_0+1] = 1\n",
    "    #connect (n_0+2)th to 2,3...,n_0+1  (still not important which)\n",
    "    matrix[1:n_0+1, n_0+1] = 1\n",
    "    for new in range(n_0+2, n):\n",
    "        nodes = range(n)\n",
    "        nodes.remove(new)\n",
    "        probs = list(matrix.sum(axis=1)+matrix.sum(axis=0))\n",
    "        probs.pop(new)\n",
    "        probs = probs/sum(probs)\n",
    "        ind = numpy.random.choice(nodes, size=n_0, replace=False, p=probs)\n",
    "        matrix[ind, new] = 1\n",
    "    return Graph(matrix = matrix)"
   ]
  },
  {
   "cell_type": "code",
   "execution_count": 694,
   "metadata": {
    "collapsed": false
   },
   "outputs": [
    {
     "name": "stderr",
     "output_type": "stream",
     "text": [
      "c:\\users\\abel_\\anaconda\\lib\\site-packages\\ipykernel\\__main__.py:13: DeprecationWarning: elementwise comparison failed; this will raise the error in the future.\n"
     ]
    },
    {
     "data": {
      "text/plain": [
       "[3, 8L, 7L]"
      ]
     },
     "execution_count": 694,
     "metadata": {},
     "output_type": "execute_result"
    }
   ],
   "source": [
    "import numpy as np\n",
    "import networkx as nx\n",
    "import matplotlib.pyplot as plt\n",
    "%matplotlib inline  \n",
    "\n",
    "###Check Erdos-Renyi Graph\n",
    "G = create_erdos(8, 0.5)\n",
    "#TG = nx.Graph(G.matrix)\n",
    "#draw(TG, pos=nx.spring_layout(TG))\n",
    "\n",
    "#G.find_path(0,4)\n",
    "#G.find_all_paths(5,4)\n",
    "#G.find_shortest_path(3,7)\n",
    "#print G.diameter()\n",
    "\n",
    "\n",
    "###Check Watts Graph\n",
    "#G = create_watts(10, 0.5)\n",
    "#TG = nx.Graph(G.matrix)\n",
    "#draw(TG, pos=nx.spring_layout(TG))\n",
    "\n",
    "#G.find_path(0,9)\n",
    "#G.find_all_paths(5,4)\n",
    "#G.find_shortest_path(3,7)\n",
    "#print G.diameter()\n",
    "\n",
    "### Check Barabasi Graph\n",
    "#G = create_barabasi(20, 1)\n",
    "#TG = nx.Graph(G.matrix)\n",
    "#draw(TG, pos=nx.spring_layout(TG))\n",
    "\n",
    "#G.matrix_to_nodedict()\n",
    "#G.find_path(0,10)\n",
    "#G.find_all_paths(5,4)\n",
    "#G.find_shortest_path(3,7)\n",
    "#print G.diameter()\n",
    "\n",
    "\n",
    "\n"
   ]
  },
  {
   "cell_type": "code",
   "execution_count": 657,
   "metadata": {
    "collapsed": false
   },
   "outputs": [
    {
     "name": "stdout",
     "output_type": "stream",
     "text": [
      "[ 4.2   3.19  2.89  2.54  2.3   2.28  2.02]\n",
      "Wall time: 59.7 s\n"
     ]
    },
    {
     "name": "stderr",
     "output_type": "stream",
     "text": [
      "c:\\users\\abel_\\anaconda\\lib\\site-packages\\ipykernel\\__main__.py:8: DeprecationWarning: elementwise comparison failed; this will raise the error in the future.\n"
     ]
    },
    {
     "data": {
      "image/png": "[encoded data removed]",
      "text/plain": [
       "<matplotlib.figure.Figure at 0x16274ef0>"
      ]
     },
     "metadata": {},
     "output_type": "display_data"
    }
   ],
   "source": [
    "%%time\n",
    "nnodes = 8\n",
    "x = range(1,nnodes)\n",
    "ytotal = np.zeros(nnodes-1)\n",
    "for exp in range(100):\n",
    "    y = []\n",
    "    for i in range(1,nnodes):\n",
    "        G = create_barabasi(10, i)\n",
    "        y.append(G.diameter())\n",
    "    ytotal += y\n",
    "    \n",
    "ymean = ytotal/100.\n",
    "print ymean\n",
    "    \n",
    "fig = plt.plot(x, ymean, 'x')\n",
    "plt.title(\"Dependence of diameter in a Barabasi Graph\")\n",
    "plt.xlabel(r\"$\\beta$\")\n",
    "plt.ylabel(\"Diameter\")"
   ]
  },
  {
   "cell_type": "code",
   "execution_count": 670,
   "metadata": {
    "collapsed": false
   },
   "outputs": [
    {
     "name": "stdout",
     "output_type": "stream",
     "text": [
      "9\n"
     ]
    },
    {
     "ename": "IndexError",
     "evalue": "list index out of range",
     "output_type": "error",
     "traceback": [
      "\u001b[1;31m---------------------------------------------------------------------------\u001b[0m",
      "\u001b[1;31mIndexError\u001b[0m                                Traceback (most recent call last)",
      "\u001b[1;32m<ipython-input-670-8df61ba8e2cb>\u001b[0m in \u001b[0;36m<module>\u001b[1;34m()\u001b[0m\n\u001b[0;32m      6\u001b[0m     \u001b[1;32mfor\u001b[0m \u001b[0mp\u001b[0m \u001b[1;32min\u001b[0m \u001b[0mnp\u001b[0m\u001b[1;33m.\u001b[0m\u001b[0marange\u001b[0m\u001b[1;33m(\u001b[0m\u001b[1;36m0.6\u001b[0m\u001b[1;33m,\u001b[0m\u001b[1;36m1\u001b[0m\u001b[1;33m,\u001b[0m\u001b[1;36m0.1\u001b[0m\u001b[1;33m)\u001b[0m\u001b[1;33m:\u001b[0m\u001b[1;33m\u001b[0m\u001b[0m\n\u001b[0;32m      7\u001b[0m         \u001b[0mG\u001b[0m \u001b[1;33m=\u001b[0m \u001b[0mcreate_watts\u001b[0m\u001b[1;33m(\u001b[0m\u001b[1;36m15\u001b[0m\u001b[1;33m,\u001b[0m \u001b[0mp\u001b[0m\u001b[1;33m)\u001b[0m\u001b[1;33m\u001b[0m\u001b[0m\n\u001b[1;32m----> 8\u001b[1;33m         \u001b[0my\u001b[0m\u001b[1;33m.\u001b[0m\u001b[0mappend\u001b[0m\u001b[1;33m(\u001b[0m\u001b[0mG\u001b[0m\u001b[1;33m.\u001b[0m\u001b[0mdiameter\u001b[0m\u001b[1;33m(\u001b[0m\u001b[1;33m)\u001b[0m\u001b[1;33m)\u001b[0m\u001b[1;33m\u001b[0m\u001b[0m\n\u001b[0m\u001b[0;32m      9\u001b[0m     \u001b[0mytotal\u001b[0m \u001b[1;33m+=\u001b[0m \u001b[0my\u001b[0m\u001b[1;33m\u001b[0m\u001b[0m\n\u001b[0;32m     10\u001b[0m \u001b[1;33m\u001b[0m\u001b[0m\n",
      "\u001b[1;32m<ipython-input-637-45a4d1c7901d>\u001b[0m in \u001b[0;36mdiameter\u001b[1;34m(self)\u001b[0m\n\u001b[0;32m     91\u001b[0m         \u001b[1;32mfor\u001b[0m \u001b[1;33m(\u001b[0m\u001b[0mstart\u001b[0m\u001b[1;33m,\u001b[0m\u001b[0mend\u001b[0m\u001b[1;33m)\u001b[0m \u001b[1;32min\u001b[0m \u001b[0mpairs\u001b[0m\u001b[1;33m:\u001b[0m\u001b[1;33m\u001b[0m\u001b[0m\n\u001b[0;32m     92\u001b[0m             \u001b[0mpaths\u001b[0m \u001b[1;33m=\u001b[0m \u001b[0mself\u001b[0m\u001b[1;33m.\u001b[0m\u001b[0mfind_all_paths\u001b[0m\u001b[1;33m(\u001b[0m\u001b[0mstart\u001b[0m\u001b[1;33m,\u001b[0m\u001b[0mend\u001b[0m\u001b[1;33m)\u001b[0m\u001b[1;33m\u001b[0m\u001b[0m\n\u001b[1;32m---> 93\u001b[1;33m             \u001b[0mshortest\u001b[0m \u001b[1;33m=\u001b[0m \u001b[0msorted\u001b[0m\u001b[1;33m(\u001b[0m\u001b[0mpaths\u001b[0m\u001b[1;33m,\u001b[0m \u001b[0mkey\u001b[0m\u001b[1;33m=\u001b[0m\u001b[0mlen\u001b[0m\u001b[1;33m)\u001b[0m\u001b[1;33m[\u001b[0m\u001b[1;36m0\u001b[0m\u001b[1;33m]\u001b[0m\u001b[1;33m\u001b[0m\u001b[0m\n\u001b[0m\u001b[0;32m     94\u001b[0m             \u001b[0mshortest_paths\u001b[0m\u001b[1;33m.\u001b[0m\u001b[0mappend\u001b[0m\u001b[1;33m(\u001b[0m\u001b[0mshortest\u001b[0m\u001b[1;33m)\u001b[0m\u001b[1;33m\u001b[0m\u001b[0m\n\u001b[0;32m     95\u001b[0m         \u001b[0mdiameter\u001b[0m \u001b[1;33m=\u001b[0m \u001b[0mlen\u001b[0m\u001b[1;33m(\u001b[0m\u001b[0mshortest_paths\u001b[0m\u001b[1;33m[\u001b[0m\u001b[1;33m-\u001b[0m\u001b[1;36m1\u001b[0m\u001b[1;33m]\u001b[0m\u001b[1;33m)\u001b[0m\u001b[1;33m\u001b[0m\u001b[0m\n",
      "\u001b[1;31mIndexError\u001b[0m: list index out of range"
     ]
    }
   ],
   "source": [
    "x = np.arange(0.6,1,0.1)\n",
    "ytotal = np.zeros(4)\n",
    "print len(np.arange(0.1,1,0.1))\n",
    "for exp in xrange(100):\n",
    "    y = []\n",
    "    for p in np.arange(0.6,1,0.1):\n",
    "        G = create_watts(15, p)\n",
    "        y.append(G.diameter())\n",
    "    ytotal += y\n",
    "    \n",
    "ymean = ytotal/100.\n",
    "print ymean\n",
    "    \n",
    "fig = plt.plot(x, ymean, 'x')\n",
    "plt.title(\"Dependence of diameter in a Watts-Strogartz Graph\")\n",
    "plt.xlabel(r\"$\\beta$\")\n",
    "plt.ylabel(\"Diameter\")"
   ]
  },
  {
   "cell_type": "code",
   "execution_count": null,
   "metadata": {
    "collapsed": true
   },
   "outputs": [],
   "source": []
  }
 ],
 "metadata": {
  "kernelspec": {
   "display_name": "Python 2",
   "language": "python",
   "name": "python2"
  },
  "language_info": {
   "codemirror_mode": {
    "name": "ipython",
    "version": 2
   },
   "file_extension": ".py",
   "mimetype": "text/x-python",
   "name": "python",
   "nbconvert_exporter": "python",
   "pygments_lexer": "ipython2",
   "version": "2.7.11"
  }
 },
 "nbformat": 4,
 "nbformat_minor": 0
}
